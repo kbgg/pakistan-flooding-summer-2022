{
 "cells": [
  {
   "cell_type": "code",
   "execution_count": null,
   "metadata": {},
   "outputs": [],
   "source": [
    "import rasterio\n",
    "import glob\n",
    "from matplotlib import pyplot\n",
    "import json\n",
    "from IPython.display import clear_output\n",
    "from matplotlib import pyplot\n",
    "\n",
    "\n",
    "window_size = 256\n",
    "offset = (window_size/2)\n",
    "\n",
    "class NpEncoder(json.JSONEncoder):\n",
    "    def default(self, obj):\n",
    "        if isinstance(obj, np.integer):\n",
    "            return int(obj)\n",
    "        if isinstance(obj, np.floating):\n",
    "            return float(obj)\n",
    "        if isinstance(obj, np.ndarray):\n",
    "            return obj.tolist()\n",
    "        return json.JSONEncoder.default(self, obj)\n",
    "\n",
    "def get_window(x, y):\n",
    "    return data[int(y-offset):int(y+offset), int(x-offset):int(x+offset)]\n",
    "\n",
    "def show_sample(sample):\n",
    "    d = get_window(sample['pos'][1]*8, sample['pos'][0]*8)\n",
    "    pyplot.imshow(d, cmap='viridis', vmin=0, vmax=256)\n",
    "    pyplot.plot(int(window_size/2), int(window_size/2), marker=\"x\", markersize=3, markeredgecolor=\"red\", markerfacecolor=\"red\")\n",
    "    pyplot.show()\n",
    "\n",
    "with open('samples.json', 'r') as f:\n",
    "    samples = json.load(f)\n",
    "    \n",
    "    for period, period_samples in samples.items():\n",
    "        with rasterio.open(f'output/{period}_ndwi_clipped.tif', 'r') as src:\n",
    "            data = src.read(1)\n",
    "\n",
    "        for i, sample in enumerate(period_samples):\n",
    "            clear_output(wait=True)\n",
    "            if sample['water'] is not None:\n",
    "                continue\n",
    "            print(f'{i+1}/{len(period_samples)}')\n",
    "            pyplot.figure(figsize=(8, 8))\n",
    "            show_sample(sample)\n",
    "\n",
    "            isWater = input('Water? (y/n)') == 'y'\n",
    "            period_samples[i]['water'] = isWater\n",
    "\n",
    "            with open('samples.json', 'w') as f:\n",
    "                f.write(json.dumps(samples, indent=4, cls=NpEncoder))"
   ]
  }
 ],
 "metadata": {
  "kernelspec": {
   "display_name": "Python 3",
   "language": "python",
   "name": "python3"
  },
  "language_info": {
   "codemirror_mode": {
    "name": "ipython",
    "version": 3
   },
   "file_extension": ".py",
   "mimetype": "text/x-python",
   "name": "python",
   "nbconvert_exporter": "python",
   "pygments_lexer": "ipython3",
   "version": "3.8.13"
  }
 },
 "nbformat": 4,
 "nbformat_minor": 5
}
