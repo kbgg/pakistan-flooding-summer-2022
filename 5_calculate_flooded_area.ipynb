{
 "cells": [
  {
   "cell_type": "code",
   "execution_count": 4,
   "metadata": {},
   "outputs": [
    {
     "name": "stdout",
     "output_type": "stream",
     "text": [
      "Total Area Flooded (Hectares): 1,824,440.49\n"
     ]
    }
   ],
   "source": [
    "import rasterio\n",
    "import numpy as np\n",
    "\n",
    "with rasterio.open('output/after_ndwi_clipped.tif', 'r') as src:\n",
    "    after = src.read(1)\n",
    "    \n",
    "with rasterio.open('output/before_ndwi_clipped.tif', 'r') as src:\n",
    "    before = src.read(1)\n",
    "    \n",
    "threshold = 119\n",
    "pixel_sq_m = (10 * 10)\n",
    "flooded = (before < threshold) & (after >= threshold)\n",
    "\n",
    "flooded_pixels = np.unique(flooded, return_counts=True)[1][1]\n",
    "flooded_sq_m = flooded_pixels * pixel_sq_m\n",
    "\n",
    "print(f'Total Area Flooded (Hectares): {flooded_sq_m / 10000:,}')"
   ]
  }
 ],
 "metadata": {
  "kernelspec": {
   "display_name": "Python 3",
   "language": "python",
   "name": "python3"
  },
  "language_info": {
   "codemirror_mode": {
    "name": "ipython",
    "version": 3
   },
   "file_extension": ".py",
   "mimetype": "text/x-python",
   "name": "python",
   "nbconvert_exporter": "python",
   "pygments_lexer": "ipython3",
   "version": "3.8.13"
  }
 },
 "nbformat": 4,
 "nbformat_minor": 4
}
