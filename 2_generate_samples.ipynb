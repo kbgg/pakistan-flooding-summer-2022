{
 "cells": [
  {
   "cell_type": "code",
   "execution_count": null,
   "metadata": {},
   "outputs": [],
   "source": [
    "import rasterio\n",
    "import glob\n",
    "from matplotlib import pyplot\n",
    "import numpy as np\n",
    "import os\n",
    "import json\n",
    "\n",
    "periods = glob.glob('output/*_ndwi_clipped.tif')\n",
    "all_samples = { }\n",
    "\n",
    "for period in periods:\n",
    "    period = period.replace('output/', '').replace('_ndwi_clipped.tif', '')\n",
    "    all_samples[period] = []\n",
    "    \n",
    "    with rasterio.open(f'output/{period}_ndwi_clipped.tif', 'r') as src:\n",
    "        data = src.read(1)\n",
    "        data = data[::8,::8]\n",
    "        \n",
    "    value_range = [-1, 1]\n",
    "    bin_step = 0.1\n",
    "    bin_count = 20\n",
    "\n",
    "    class NpEncoder(json.JSONEncoder):\n",
    "        def default(self, obj):\n",
    "            if isinstance(obj, np.integer):\n",
    "                return int(obj)\n",
    "            if isinstance(obj, np.floating):\n",
    "                return float(obj)\n",
    "            if isinstance(obj, np.ndarray):\n",
    "                return obj.tolist()\n",
    "            return json.JSONEncoder.default(self, obj)\n",
    "\n",
    "    v = value_range[0]\n",
    "    while v < value_range[1]-bin_step:\n",
    "        v_min = int(v * 127 + 128)\n",
    "        v_max = int((v + bin_step) * 127 + 128)\n",
    "\n",
    "        values = np.argwhere((data >= v_min) & (data < v_max))\n",
    "        if values.shape[0] >= bin_count:\n",
    "            samples = np.random.choice(np.arange(0,values.shape[0]), size=bin_count)\n",
    "            for s in samples:\n",
    "                all_samples[period].append({\n",
    "                    'pos': list(values[s]),\n",
    "                    'water': None,\n",
    "                    'value': data[values[s][0],values[s][1]]\n",
    "                })\n",
    "\n",
    "        v += bin_step\n",
    "\n",
    "with open('samples.json', 'w') as f:\n",
    "    f.write(json.dumps(all_samples, indent=4, cls=NpEncoder))"
   ]
  }
 ],
 "metadata": {
  "kernelspec": {
   "display_name": "Python 3",
   "language": "python",
   "name": "python3"
  },
  "language_info": {
   "codemirror_mode": {
    "name": "ipython",
    "version": 3
   },
   "file_extension": ".py",
   "mimetype": "text/x-python",
   "name": "python",
   "nbconvert_exporter": "python",
   "pygments_lexer": "ipython3",
   "version": "3.8.13"
  }
 },
 "nbformat": 4,
 "nbformat_minor": 4
}
